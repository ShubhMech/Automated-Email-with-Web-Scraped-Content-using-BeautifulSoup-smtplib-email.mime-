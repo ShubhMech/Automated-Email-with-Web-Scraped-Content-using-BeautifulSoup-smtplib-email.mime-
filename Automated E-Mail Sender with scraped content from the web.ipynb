{
 "cells": [
  {
   "cell_type": "code",
   "execution_count": 53,
   "id": "1c3ffba4-4bc2-4109-906c-196b22f1ee1e",
   "metadata": {},
   "outputs": [],
   "source": [
    "import bs4\n",
    "import requests\n",
    "import html5lib"
   ]
  },
  {
   "cell_type": "code",
   "execution_count": 54,
   "id": "0bb5a07b-ef66-494b-83f1-c47449e7a1e4",
   "metadata": {},
   "outputs": [],
   "source": [
    "import smtplib"
   ]
  },
  {
   "cell_type": "code",
   "execution_count": 55,
   "id": "5f4eea92-11cc-42e2-9c42-69aef9e47e5e",
   "metadata": {},
   "outputs": [],
   "source": [
    "import datetime"
   ]
  },
  {
   "cell_type": "code",
   "execution_count": 56,
   "id": "dc9a064c-3904-446b-bb68-6866b6f10941",
   "metadata": {},
   "outputs": [],
   "source": [
    "import email.mime"
   ]
  },
  {
   "cell_type": "code",
   "execution_count": 57,
   "id": "30f12324-095d-4662-852f-611e804610f9",
   "metadata": {},
   "outputs": [],
   "source": [
    "from email.mime.multipart import MIMEMultipart\n",
    "from email.mime.text import MIMEText"
   ]
  },
  {
   "cell_type": "code",
   "execution_count": 58,
   "id": "f32711ef-a712-4741-a06b-f9ceb2cf7261",
   "metadata": {},
   "outputs": [],
   "source": [
    "content=''"
   ]
  },
  {
   "cell_type": "code",
   "execution_count": 59,
   "id": "04c3918a-4f1a-41ba-9ba2-96a95fce979a",
   "metadata": {},
   "outputs": [],
   "source": [
    "def extract_news(url):\n",
    "    print('Extracting Hacker News Stories:')\n",
    "    cnt=''\n",
    "    cnt += ('<b> HN Top Stories: </b>\\n' + '<br>'+ '-'*50+'<br>')\n",
    "           \n",
    "    response=requests.get(url)\n",
    "    content=response.content\n",
    "    soup= bs4.BeautifulSoup(content, 'html.parser')\n",
    "    for i, tag in enumerate(soup.find_all('td', {'class':'title','valign':''})):\n",
    "        if tag.text!='More':\n",
    "            cnt += (str(i+1) + tag.text + \" :: \" + '<br>')\n",
    "        else:\n",
    "            cnt += ''\n",
    "    return cnt\n",
    "\n",
    "\n",
    "       "
   ]
  },
  {
   "cell_type": "code",
   "execution_count": 60,
   "id": "a60582b5-b624-49bc-8a33-b76bdd473eb9",
   "metadata": {},
   "outputs": [
    {
     "name": "stdout",
     "output_type": "stream",
     "text": [
      "Extracting Hacker News Stories:\n"
     ]
    }
   ],
   "source": [
    "cnt = extract_news('https://news.ycombinator.com/')\n",
    "content += cnt\n",
    "content += ('<br>------<br>')\n",
    "content +=('<br><br>End of Message')"
   ]
  },
  {
   "cell_type": "code",
   "execution_count": 61,
   "id": "12bdf253-5156-4aa3-8e9e-6516d1a1c879",
   "metadata": {},
   "outputs": [
    {
     "data": {
      "text/plain": [
       "'<b> HN Top Stories: </b>\\n<br>--------------------------------------------------<br>1Google Dropping Material Design for iOS Apps (sixcolors.com) :: <br>2How to Evaluate Startup Offers (faingezicht.com) :: <br>3Ć Programming Language (github.com/pfusik) :: <br>4The Off-Grid Laws of Every State in America (primalsurvivor.net) :: <br>5Mirror Links for \"Unfollow Everything\" (reddit.com) :: <br>6Byzantine warrior with gold-threaded jaw unearthed in Greece (livescience.com) :: <br>7The Berkshire Hathaway of the Internet (awilkinson.medium.com) :: <br>8GPU.js (gpu.rocks) :: <br>9Dos-like: Engine for making things with a MS-DOS feel, but for modern platforms (github.com/mattiasgustavsson) :: <br>10Relational databases aren’t dinosaurs, they’re sharks (simplethread.com) :: <br>11The Uncertain Future of Ham Radio (ieee.org) :: <br>12Bitmovin (YC S15) Is Hiring to build the future of video infrastructure (bitmovin.com) :: <br>13A blank wall can show how many people are in a room and what they’re doing (scientificamerican.com) :: <br>14Pandora Papers: is the world’s biggest leak the world’s biggest cover-up? (michaelwest.com.au) :: <br>15Ireland joins OECD International Tax agreement (gov.ie) :: <br>16Things I’ve learned in my 20 years as a software engineer (simplethread.com) :: <br>17After Dark (90\\'s screensavers) in CSS (bryanbraun.com) :: <br>18Free resources to promote your next startup (github.com/trekhleb) :: <br>19Hydrogen’s moment is here at last? (economist.com) :: <br>20Remystifying Supply Chains (ribbonfarm.com) :: <br>21Telephone Central Office Building Pictures (co-buildings.com) :: <br>22Black Children Were Jailed for a Crime That Doesn’t Exist (propublica.org) :: <br>23The Ascent of Mont-Blanc (ca. 1855) (publicdomainreview.org) :: <br>242008: Violet (if50.substack.com) :: <br>25Compilers for Contrarians (stanford.edu) :: <br>26Your Money and Your Life (Edward Snowden) (edwardsnowden.substack.com) :: <br>27Is RESTFul Paradigm a Type of FFI (Foreign Function Interface)? :: <br>28Finding Complex Metal Oxides for Technology Advancement (googleblog.com) :: <br>29The American Aristotle (aeon.co) :: <br>30What\\'s in a version number? (Or: Musings on backwards compatibility) (alexgaynor.net) :: <br><br>------<br><br><br>End of Message'"
      ]
     },
     "execution_count": 61,
     "metadata": {},
     "output_type": "execute_result"
    }
   ],
   "source": [
    "content"
   ]
  },
  {
   "cell_type": "code",
   "execution_count": 62,
   "id": "c4b0c699-76cf-4255-aed9-e3d9e3ba3ae0",
   "metadata": {},
   "outputs": [
    {
     "name": "stdout",
     "output_type": "stream",
     "text": [
      "Composing e-mail now\n"
     ]
    }
   ],
   "source": [
    "print('Composing e-mail now')"
   ]
  },
  {
   "cell_type": "code",
   "execution_count": 63,
   "id": "13954ad9-5024-4e3c-9d18-3ac5ecf4db78",
   "metadata": {},
   "outputs": [],
   "source": [
    "SERVER = 'smtp.gmail.com' # \"your smtp server\"\n",
    "PORT = 587 # your port number\n",
    "FROM =  'shubhamatiet841@gmail.com' # \"your from email id\"\n",
    "TO = 'shubhamatiet841@gmail.com' # \"your to email ids\"  # can be a list\n",
    "PASS = 'swati&shubham1' # \"your email id's password\""
   ]
  },
  {
   "cell_type": "code",
   "execution_count": 64,
   "id": "5fa2b596-5cc2-4dda-9948-63bba61fbd97",
   "metadata": {},
   "outputs": [
    {
     "name": "stdout",
     "output_type": "stream",
     "text": [
      "Initiating Server...\n"
     ]
    },
    {
     "name": "stderr",
     "output_type": "stream",
     "text": [
      "send: 'ehlo [192.168.18.15]\\r\\n'\n",
      "reply: b'250-smtp.gmail.com at your service, [183.83.47.53]\\r\\n'\n",
      "reply: b'250-SIZE 35882577\\r\\n'\n",
      "reply: b'250-8BITMIME\\r\\n'\n",
      "reply: b'250-STARTTLS\\r\\n'\n",
      "reply: b'250-ENHANCEDSTATUSCODES\\r\\n'\n",
      "reply: b'250-PIPELINING\\r\\n'\n",
      "reply: b'250-CHUNKING\\r\\n'\n",
      "reply: b'250 SMTPUTF8\\r\\n'\n",
      "reply: retcode (250); Msg: b'smtp.gmail.com at your service, [183.83.47.53]\\nSIZE 35882577\\n8BITMIME\\nSTARTTLS\\nENHANCEDSTATUSCODES\\nPIPELINING\\nCHUNKING\\nSMTPUTF8'\n",
      "send: 'STARTTLS\\r\\n'\n",
      "reply: b'220 2.0.0 Ready to start TLS\\r\\n'\n",
      "reply: retcode (220); Msg: b'2.0.0 Ready to start TLS'\n",
      "send: 'ehlo [192.168.18.15]\\r\\n'\n",
      "reply: b'250-smtp.gmail.com at your service, [183.83.47.53]\\r\\n'\n",
      "reply: b'250-SIZE 35882577\\r\\n'\n",
      "reply: b'250-8BITMIME\\r\\n'\n",
      "reply: b'250-AUTH LOGIN PLAIN XOAUTH2 PLAIN-CLIENTTOKEN OAUTHBEARER XOAUTH\\r\\n'\n",
      "reply: b'250-ENHANCEDSTATUSCODES\\r\\n'\n",
      "reply: b'250-PIPELINING\\r\\n'\n",
      "reply: b'250-CHUNKING\\r\\n'\n",
      "reply: b'250 SMTPUTF8\\r\\n'\n",
      "reply: retcode (250); Msg: b'smtp.gmail.com at your service, [183.83.47.53]\\nSIZE 35882577\\n8BITMIME\\nAUTH LOGIN PLAIN XOAUTH2 PLAIN-CLIENTTOKEN OAUTHBEARER XOAUTH\\nENHANCEDSTATUSCODES\\nPIPELINING\\nCHUNKING\\nSMTPUTF8'\n",
      "send: 'AUTH PLAIN AHNodWJoYW1hdGlldDg0MUBnbWFpbC5jb20Ac3dhdGkmc2h1YmhhbTE=\\r\\n'\n",
      "reply: b'235 2.7.0 Accepted\\r\\n'\n",
      "reply: retcode (235); Msg: b'2.7.0 Accepted'\n"
     ]
    },
    {
     "data": {
      "text/plain": [
       "(235, b'2.7.0 Accepted')"
      ]
     },
     "execution_count": 64,
     "metadata": {},
     "output_type": "execute_result"
    }
   ],
   "source": [
    "print('Initiating Server...')\n",
    "\n",
    "server = smtplib.SMTP(SERVER, PORT)\n",
    "\n",
    "server.set_debuglevel(1)\n",
    "server.ehlo()\n",
    "server.starttls()\n",
    "\n",
    "server.login(FROM, PASS)"
   ]
  },
  {
   "cell_type": "code",
   "execution_count": 65,
   "id": "b11eb0fc-4501-454f-b6b2-f753dd5fcced",
   "metadata": {},
   "outputs": [],
   "source": [
    "now= datetime.datetime.now()"
   ]
  },
  {
   "cell_type": "code",
   "execution_count": 66,
   "id": "3189d7dd-e220-4e30-944a-c88f7f844c38",
   "metadata": {},
   "outputs": [],
   "source": [
    "msg=MIMEMultipart()\n",
    "msg['Subject'] = 'Top News Stories HN [Automated Email]' + ' ' + str(now.day) + '-' + str(now.month) + '-' + str(\n",
    "    now.year)"
   ]
  },
  {
   "cell_type": "code",
   "execution_count": 67,
   "id": "c00a16d6-b728-41ae-8f54-ca5c42f1f722",
   "metadata": {},
   "outputs": [],
   "source": [
    "msg['From'] = FROM\n",
    "msg['To'] = TO\n",
    "\n",
    "msg.attach(MIMEText(content, 'html'))"
   ]
  },
  {
   "cell_type": "markdown",
   "id": "a22ccccf-9c07-4520-8336-018092cbb101",
   "metadata": {},
   "source": [
    "datetime.now"
   ]
  },
  {
   "cell_type": "code",
   "execution_count": 68,
   "id": "9f01f818-a2d4-4dc9-a45d-29f91a6340b5",
   "metadata": {},
   "outputs": [
    {
     "name": "stderr",
     "output_type": "stream",
     "text": [
      "send: 'mail FROM:<shubhamatiet841@gmail.com> size=3539\\r\\n'\n",
      "reply: b'250 2.1.0 OK r5sm1612123pjd.13 - gsmtp\\r\\n'\n",
      "reply: retcode (250); Msg: b'2.1.0 OK r5sm1612123pjd.13 - gsmtp'\n",
      "send: 'rcpt TO:<shubhamatiet841@gmail.com>\\r\\n'\n",
      "reply: b'250 2.1.5 OK r5sm1612123pjd.13 - gsmtp\\r\\n'\n",
      "reply: retcode (250); Msg: b'2.1.5 OK r5sm1612123pjd.13 - gsmtp'\n",
      "send: 'data\\r\\n'\n",
      "reply: b'354  Go ahead r5sm1612123pjd.13 - gsmtp\\r\\n'\n",
      "reply: retcode (354); Msg: b'Go ahead r5sm1612123pjd.13 - gsmtp'\n",
      "data: (354, b'Go ahead r5sm1612123pjd.13 - gsmtp')\n",
      "send: b'Content-Type: multipart/mixed; boundary=\"===============4650010795985777805==\"\\r\\nMIME-Version: 1.0\\r\\nSubject: Top News Stories HN [Automated Email] 9-10-2021\\r\\nFrom: shubhamatiet841@gmail.com\\r\\nTo: shubhamatiet841@gmail.com\\r\\n\\r\\n--===============4650010795985777805==\\r\\nContent-Type: text/html; charset=\"utf-8\"\\r\\nMIME-Version: 1.0\\r\\nContent-Transfer-Encoding: base64\\r\\n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\\r\\nTWVzc2FnZQ==\\r\\n\\r\\n--===============4650010795985777805==--\\r\\n.\\r\\n'\n",
      "reply: b'250 2.0.0 OK  1633773433 r5sm1612123pjd.13 - gsmtp\\r\\n'\n",
      "reply: retcode (250); Msg: b'2.0.0 OK  1633773433 r5sm1612123pjd.13 - gsmtp'\n",
      "data: (250, b'2.0.0 OK  1633773433 r5sm1612123pjd.13 - gsmtp')\n",
      "send: 'quit\\r\\n'\n"
     ]
    },
    {
     "name": "stdout",
     "output_type": "stream",
     "text": [
      "Email Sent...\n"
     ]
    },
    {
     "name": "stderr",
     "output_type": "stream",
     "text": [
      "reply: b'221 2.0.0 closing connection r5sm1612123pjd.13 - gsmtp\\r\\n'\n",
      "reply: retcode (221); Msg: b'2.0.0 closing connection r5sm1612123pjd.13 - gsmtp'\n"
     ]
    },
    {
     "data": {
      "text/plain": [
       "(221, b'2.0.0 closing connection r5sm1612123pjd.13 - gsmtp')"
      ]
     },
     "execution_count": 68,
     "metadata": {},
     "output_type": "execute_result"
    }
   ],
   "source": [
    "server.sendmail(FROM, TO, msg.as_string())\n",
    "\n",
    "print('Email Sent...')\n",
    "\n",
    "server.quit()"
   ]
  }
 ],
 "metadata": {
  "kernelspec": {
   "display_name": "Python 3",
   "language": "python",
   "name": "python3"
  },
  "language_info": {
   "codemirror_mode": {
    "name": "ipython",
    "version": 3
   },
   "file_extension": ".py",
   "mimetype": "text/x-python",
   "name": "python",
   "nbconvert_exporter": "python",
   "pygments_lexer": "ipython3",
   "version": "3.8.5"
  }
 },
 "nbformat": 4,
 "nbformat_minor": 5
}
