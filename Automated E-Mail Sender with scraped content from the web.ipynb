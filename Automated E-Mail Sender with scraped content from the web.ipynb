{
 "cells": [
  {
   "cell_type": "code",
   "execution_count": null,
   "id": "1c3ffba4-4bc2-4109-906c-196b22f1ee1e",
   "metadata": {},
   "outputs": [],
   "source": [
    "import bs4\n",
    "import requests\n",
    "import html5lib"
   ]
  },
  {
   "cell_type": "code",
   "execution_count": null,
   "id": "0bb5a07b-ef66-494b-83f1-c47449e7a1e4",
   "metadata": {},
   "outputs": [],
   "source": [
    "import smtplib"
   ]
  },
  {
   "cell_type": "code",
   "execution_count": null,
   "id": "5f4eea92-11cc-42e2-9c42-69aef9e47e5e",
   "metadata": {},
   "outputs": [],
   "source": [
    "import datetime"
   ]
  },
  {
   "cell_type": "code",
   "execution_count": null,
   "id": "dc9a064c-3904-446b-bb68-6866b6f10941",
   "metadata": {},
   "outputs": [],
   "source": [
    "import email.mime"
   ]
  },
  {
   "cell_type": "code",
   "execution_count": null,
   "id": "30f12324-095d-4662-852f-611e804610f9",
   "metadata": {},
   "outputs": [],
   "source": [
    "from email.mime.multipart import MIMEMultipart\n",
    "from email.mime.text import MIMEText"
   ]
  },
  {
   "cell_type": "code",
   "execution_count": null,
   "id": "f32711ef-a712-4741-a06b-f9ceb2cf7261",
   "metadata": {},
   "outputs": [],
   "source": [
    "content=''"
   ]
  },
  {
   "cell_type": "code",
   "execution_count": null,
   "id": "04c3918a-4f1a-41ba-9ba2-96a95fce979a",
   "metadata": {},
   "outputs": [],
   "source": [
    "def extract_news(url):\n",
    "    print('Extracting Hacker News Stories:')\n",
    "    cnt=''\n",
    "    cnt += ('<b> HN Top Stories: </b>\\n' + '<br>'+ '-'*50+'<br>')\n",
    "           \n",
    "    response=requests.get(url)\n",
    "    content=response.content\n",
    "    soup= bs4.BeautifulSoup(content, 'html.parser')\n",
    "    for i, tag in enumerate(soup.find_all('td', {'class':'title','valign':''})):\n",
    "        if tag.text!='More':\n",
    "            cnt += (str(i+1) + tag.text + \" :: \" + '<br>')\n",
    "        else:\n",
    "            cnt += ''\n",
    "    return cnt\n",
    "\n",
    "\n",
    "       "
   ]
  },
  {
   "cell_type": "code",
   "execution_count": null,
   "id": "a60582b5-b624-49bc-8a33-b76bdd473eb9",
   "metadata": {},
   "outputs": [],
   "source": [
    "cnt = extract_news('https://news.ycombinator.com/')\n",
    "content += cnt\n",
    "content += ('<br>------<br>')\n",
    "content +=('<br><br>End of Message')"
   ]
  },
  {
   "cell_type": "code",
   "execution_count": null,
   "id": "12bdf253-5156-4aa3-8e9e-6516d1a1c879",
   "metadata": {},
   "outputs": [],
   "source": [
    "content"
   ]
  },
  {
   "cell_type": "code",
   "execution_count": null,
   "id": "c4b0c699-76cf-4255-aed9-e3d9e3ba3ae0",
   "metadata": {},
   "outputs": [],
   "source": [
    "print('Composing e-mail now')"
   ]
  },
  {
   "cell_type": "code",
   "execution_count": null,
   "id": "13954ad9-5024-4e3c-9d18-3ac5ecf4db78",
   "metadata": {},
   "outputs": [],
   "source": [
    "SERVER = 'smtp.gmail.com' # \"your smtp server\"\n",
    "PORT = 587 # your port number\n",
    "FROM =  'shubhamatiet841@gmail.com' # \"your from email id\"\n",
    "TO = 'shubhamatiet841@gmail.com' # \"your to email ids\"  # can be a list\n",
    "PASS = '**********' # \"your email id's password\""
   ]
  },
  {
   "cell_type": "code",
   "execution_count": null,
   "id": "5fa2b596-5cc2-4dda-9948-63bba61fbd97",
   "metadata": {},
   "outputs": [],
   "source": [
    "print('Initiating Server...')\n",
    "\n",
    "server = smtplib.SMTP(SERVER, PORT)\n",
    "\n",
    "server.set_debuglevel(1)\n",
    "server.ehlo()\n",
    "server.starttls()\n",
    "\n",
    "server.login(FROM, PASS)"
   ]
  },
  {
   "cell_type": "code",
   "execution_count": null,
   "id": "b11eb0fc-4501-454f-b6b2-f753dd5fcced",
   "metadata": {},
   "outputs": [],
   "source": [
    "now= datetime.datetime.now()"
   ]
  },
  {
   "cell_type": "code",
   "execution_count": null,
   "id": "3189d7dd-e220-4e30-944a-c88f7f844c38",
   "metadata": {},
   "outputs": [],
   "source": [
    "msg=MIMEMultipart()\n",
    "msg['Subject'] = 'Top News Stories HN [Automated Email]' + ' ' + str(now.day) + '-' + str(now.month) + '-' + str(\n",
    "    now.year)"
   ]
  },
  {
   "cell_type": "code",
   "execution_count": null,
   "id": "c00a16d6-b728-41ae-8f54-ca5c42f1f722",
   "metadata": {},
   "outputs": [],
   "source": [
    "msg['From'] = FROM\n",
    "msg['To'] = TO\n",
    "\n",
    "msg.attach(MIMEText(content, 'html'))"
   ]
  },
  {
   "cell_type": "markdown",
   "id": "a22ccccf-9c07-4520-8336-018092cbb101",
   "metadata": {},
   "source": [
    "datetime.now"
   ]
  },
  {
   "cell_type": "code",
   "execution_count": null,
   "id": "9f01f818-a2d4-4dc9-a45d-29f91a6340b5",
   "metadata": {},
   "outputs": [],
   "source": [
    "server.sendmail(FROM, TO, msg.as_string())\n",
    "\n",
    "print('Email Sent...')\n",
    "\n",
    "server.quit()"
   ]
  }
 ],
 "metadata": {
  "kernelspec": {
   "display_name": "Python 3",
   "language": "python",
   "name": "python3"
  },
  "language_info": {
   "codemirror_mode": {
    "name": "ipython",
    "version": 3
   },
   "file_extension": ".py",
   "mimetype": "text/x-python",
   "name": "python",
   "nbconvert_exporter": "python",
   "pygments_lexer": "ipython3",
   "version": "3.8.5"
  }
 },
 "nbformat": 4,
 "nbformat_minor": 5
}
